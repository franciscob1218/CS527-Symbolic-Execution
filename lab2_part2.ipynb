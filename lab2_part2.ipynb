{
 "cells": [
  {
   "cell_type": "code",
   "execution_count": 1,
   "id": "47d369be-48ad-4e49-9b3c-d054beb5c841",
   "metadata": {},
   "outputs": [],
   "source": [
    "#Part 2"
   ]
  },
  {
   "cell_type": "code",
   "execution_count": 2,
   "id": "71318fa9-bc7b-4696-b03b-3bccdab89d5e",
   "metadata": {},
   "outputs": [],
   "source": [
    "##from object dump file this is the info for \"puts\"  \n",
    "##11d4:\te8 97 fe ff ff       \tcallq  1070 <puts@plt>\n",
    "putsID = \"1070\""
   ]
  },
  {
   "cell_type": "code",
   "execution_count": 3,
   "id": "3da58a4f-d738-4b4b-ae52-1f2ca354612c",
   "metadata": {},
   "outputs": [],
   "source": [
    "import sys\n",
    "import angr"
   ]
  },
  {
   "cell_type": "code",
   "execution_count": 4,
   "id": "da21089b-cad6-4c15-a2c5-913e103a0487",
   "metadata": {},
   "outputs": [
    {
     "name": "stderr",
     "output_type": "stream",
     "text": [
      "WARNING | 2022-11-18 14:14:08,231 | cle.loader | The main binary is a position-independent executable. It is being loaded with a base address of 0x400000.\n"
     ]
    },
    {
     "name": "stdout",
     "output_type": "stream",
     "text": [
      "<Project ./test>\n"
     ]
    }
   ],
   "source": [
    "proj = angr.Project(\"./test\", load_options={'auto_load_libs': False})\n",
    "print(proj)"
   ]
  },
  {
   "cell_type": "code",
   "execution_count": null,
   "id": "12bf531f-c154-4a68-882e-17ecd3b3d34f",
   "metadata": {},
   "outputs": [],
   "source": []
  },
  {
   "cell_type": "code",
   "execution_count": null,
   "id": "52ffc479-ec11-4449-baaf-7c40cc795f6e",
   "metadata": {},
   "outputs": [],
   "source": []
  },
  {
   "cell_type": "code",
   "execution_count": 5,
   "id": "2a5b51cc-81d7-4ce9-b125-fc200b4ac0ce",
   "metadata": {},
   "outputs": [
    {
     "name": "stdout",
     "output_type": "stream",
     "text": [
      "DiGraph with 67 nodes and 78 edges\n"
     ]
    }
   ],
   "source": [
    "cfg = proj.analyses.CFGFast(data_references=True, normalize=True)\n",
    "print(cfg.graph)"
   ]
  },
  {
   "cell_type": "code",
   "execution_count": 6,
   "id": "db9e490b-b19b-42a3-aec3-05883d41cbe9",
   "metadata": {},
   "outputs": [
    {
     "name": "stdout",
     "output_type": "stream",
     "text": [
      "67\n"
     ]
    }
   ],
   "source": [
    "nodelist = list(cfg.graph.nodes())\n",
    "#print(nodelist)\n",
    "#Make a list to hold all of the nodes detected\n",
    "\n",
    "numofnodes = len(nodelist)\n",
    "print(numofnodes)\n",
    "#print the total num of nodes"
   ]
  },
  {
   "cell_type": "code",
   "execution_count": 7,
   "id": "ae8bc5e8-4037-45b4-8808-be1b765322e3",
   "metadata": {},
   "outputs": [
    {
     "name": "stdout",
     "output_type": "stream",
     "text": [
      "78\n"
     ]
    }
   ],
   "source": [
    "edgelist = list(cfg.graph.edges())\n",
    "#print(edgelist)\n",
    "#Make a list to hold all of the edges detected\n",
    "\n",
    "numofedges = len(edgelist)\n",
    "print(numofedges)\n",
    "#print the total num of edges"
   ]
  },
  {
   "cell_type": "code",
   "execution_count": 9,
   "id": "06d83e00-77ec-465d-9738-447c80f889b3",
   "metadata": {},
   "outputs": [
    {
     "name": "stdout",
     "output_type": "stream",
     "text": [
      "0x4011d4\n",
      "<SimState @ 0x4010a0>\n"
     ]
    },
    {
     "name": "stderr",
     "output_type": "stream",
     "text": [
      "WARNING | 2022-11-18 14:20:31,488 | angr.storage.memory_mixins.default_filler_mixin | Filling memory at 0x7fffffffffeff9c with 4 unconstrained bytes referenced from 0x4010a9 (_start+0x9 in test (0x10a9))\n",
      "WARNING | 2022-11-18 14:20:32,264 | angr.storage.memory_mixins.default_filler_mixin | Filling memory at 0x7fffffffffeff9c with 4 unconstrained bytes referenced from 0x4010a9 (_start+0x9 in test (0x10a9))\n"
     ]
    },
    {
     "name": "stdout",
     "output_type": "stream",
     "text": [
      "Success! Solution is: 0000003214\n",
      "0x4011e2\n",
      "<SimState @ 0x4010a0>\n",
      "Success! Solution is: 2181088768\n"
     ]
    }
   ],
   "source": [
    "for node in nodelist:\n",
    "    if node.block is None:\n",
    "        continue\n",
    "    for insn in node.block.capstone.insns:\n",
    "        mne = insn.mnemonic\n",
    "        if mne == 'call':\n",
    "            if insn.op_str.endswith(putsID):\n",
    "                addr_target = insn.address\n",
    "                \n",
    "                print(hex(addr_target))\n",
    "                \n",
    "                initial_state = proj.factory.entry_state()\n",
    "                simulation = proj.factory.simgr(initial_state)\n",
    "                print(initial_state)\n",
    "                \n",
    "                simulation.explore(find=addr_target)\n",
    "                \n",
    "                if simulation.found:\n",
    "                    solution_state = simulation.found[0]\n",
    "                    solution = solution_state.posix.dumps(sys.stdin.fileno())\n",
    "                    print(\"Success! Solution is: {}\".format(solution.decode(\"utf-8\")))\n",
    "                \n",
    "                else:\n",
    "                    raise Exception(\"Could not find the solution\")\n",
    "                    "
   ]
  }
 ],
 "metadata": {
  "kernelspec": {
   "display_name": "Python 3 (ipykernel)",
   "language": "python",
   "name": "python3"
  },
  "language_info": {
   "codemirror_mode": {
    "name": "ipython",
    "version": 3
   },
   "file_extension": ".py",
   "mimetype": "text/x-python",
   "name": "python",
   "nbconvert_exporter": "python",
   "pygments_lexer": "ipython3",
   "version": "3.8.10"
  },
  "toc-autonumbering": false,
  "toc-showcode": false,
  "toc-showmarkdowntxt": false
 },
 "nbformat": 4,
 "nbformat_minor": 5
}
