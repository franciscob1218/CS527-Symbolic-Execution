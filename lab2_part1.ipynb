{
 "cells": [
  {
   "cell_type": "code",
   "execution_count": 26,
   "id": "9d362325-b3a7-46be-af88-fd467eb943b9",
   "metadata": {},
   "outputs": [],
   "source": [
    "import angr\n",
    "import os\n",
    "import argparse\n",
    "import monkeyhex\n",
    "from angrutils import *\n",
    "import subprocess\n",
    "import graphviz"
   ]
  },
  {
   "cell_type": "code",
   "execution_count": 2,
   "id": "e6d43dd1-97d0-4bf8-8585-b13835d5c9ab",
   "metadata": {},
   "outputs": [
    {
     "name": "stderr",
     "output_type": "stream",
     "text": [
      "WARNING | 2022-11-18 15:23:59,707 | cle.loader | The main binary is a position-independent executable. It is being loaded with a base address of 0x400000.\n"
     ]
    },
    {
     "name": "stdout",
     "output_type": "stream",
     "text": [
      "<Project ./test>\n"
     ]
    }
   ],
   "source": [
    "proj = angr.Project(\"./test\", load_options={'auto_load_libs': False})\n",
    "print(proj)\n",
    "#load the binary into the project"
   ]
  },
  {
   "cell_type": "code",
   "execution_count": 3,
   "id": "1fe29ab1-31c4-4275-987d-03ab01a85837",
   "metadata": {},
   "outputs": [
    {
     "data": {
      "text/plain": [
       "<Arch AMD64 (LE)>"
      ]
     },
     "execution_count": 3,
     "metadata": {},
     "output_type": "execute_result"
    }
   ],
   "source": [
    "proj.arch #This will give me the archatecture of the device the binary was created on."
   ]
  },
  {
   "cell_type": "code",
   "execution_count": 4,
   "id": "94d75f7e-a72d-43b5-a5fa-7d6136951c7e",
   "metadata": {},
   "outputs": [
    {
     "data": {
      "text/plain": [
       "0x4010a0"
      ]
     },
     "execution_count": 4,
     "metadata": {},
     "output_type": "execute_result"
    }
   ],
   "source": [
    "proj.entry #This will give me the binary entry point the right starting hex"
   ]
  },
  {
   "cell_type": "code",
   "execution_count": 5,
   "id": "cc33906d-95dd-4d1e-b537-033863b65fd8",
   "metadata": {},
   "outputs": [
    {
     "data": {
      "text/plain": [
       "'./test'"
      ]
     },
     "execution_count": 5,
     "metadata": {},
     "output_type": "execute_result"
    }
   ],
   "source": [
    "proj.filename #This will give the location of the binary"
   ]
  },
  {
   "cell_type": "code",
   "execution_count": 6,
   "id": "925a7bc2-4003-4bee-a1b9-2fc2b54fac8c",
   "metadata": {},
   "outputs": [
    {
     "data": {
      "text/plain": [
       "<Loaded test, maps [0x400000:0x807fff]>"
      ]
     },
     "execution_count": 6,
     "metadata": {},
     "output_type": "execute_result"
    }
   ],
   "source": [
    "proj.loader"
   ]
  },
  {
   "cell_type": "code",
   "execution_count": 7,
   "id": "998ce916-5ce7-44bc-86e0-ca37434f4208",
   "metadata": {},
   "outputs": [
    {
     "data": {
      "text/plain": [
       "OrderedDict([('test', <ELF Object test, maps [0x400000:0x404017]>),\n",
       "             ('extern-address space',\n",
       "              <ExternObject Object cle##externs, maps [0x600000:0x607fff]>),\n",
       "             ('cle##tls',\n",
       "              <ELFTLSObjectV2 Object cle##tls, maps [0x700000:0x71500f]>)])"
      ]
     },
     "execution_count": 7,
     "metadata": {},
     "output_type": "execute_result"
    }
   ],
   "source": [
    "proj.loader.shared_objects"
   ]
  },
  {
   "cell_type": "code",
   "execution_count": 8,
   "id": "fe9a98d1-5090-4492-b3ee-a95ffa6992f7",
   "metadata": {},
   "outputs": [
    {
     "data": {
      "text/plain": [
       "0x400000"
      ]
     },
     "execution_count": 8,
     "metadata": {},
     "output_type": "execute_result"
    }
   ],
   "source": [
    "proj.loader.min_addr"
   ]
  },
  {
   "cell_type": "code",
   "execution_count": 9,
   "id": "737d8386-59e5-4b6b-91b7-e4d4c069d8ad",
   "metadata": {},
   "outputs": [
    {
     "data": {
      "text/plain": [
       "0x807fff"
      ]
     },
     "execution_count": 9,
     "metadata": {},
     "output_type": "execute_result"
    }
   ],
   "source": [
    "proj.loader.max_addr"
   ]
  },
  {
   "cell_type": "code",
   "execution_count": 10,
   "id": "fe0dec89-eec4-4253-80c3-9428b8b1012b",
   "metadata": {},
   "outputs": [
    {
     "data": {
      "text/plain": [
       "<ELF Object test, maps [0x400000:0x404017]>"
      ]
     },
     "execution_count": 10,
     "metadata": {},
     "output_type": "execute_result"
    }
   ],
   "source": [
    "proj.loader.main_object"
   ]
  },
  {
   "cell_type": "code",
   "execution_count": 11,
   "id": "7e32e844-30a8-42a8-8e7a-e2cd7a42419d",
   "metadata": {},
   "outputs": [
    {
     "data": {
      "text/plain": [
       "False"
      ]
     },
     "execution_count": 11,
     "metadata": {},
     "output_type": "execute_result"
    }
   ],
   "source": [
    "proj.loader.main_object.execstack"
   ]
  },
  {
   "cell_type": "code",
   "execution_count": 12,
   "id": "52e24fb8-09ff-4e1b-80d6-a112cca58c5c",
   "metadata": {},
   "outputs": [
    {
     "data": {
      "text/plain": [
       "True"
      ]
     },
     "execution_count": 12,
     "metadata": {},
     "output_type": "execute_result"
    }
   ],
   "source": [
    "proj.loader.main_object.pic"
   ]
  },
  {
   "cell_type": "code",
   "execution_count": 13,
   "id": "3f8e0d8e-9254-481e-9e4d-4aff248b0731",
   "metadata": {},
   "outputs": [
    {
     "name": "stdout",
     "output_type": "stream",
     "text": [
      "DiGraph with 67 nodes and 78 edges\n"
     ]
    }
   ],
   "source": [
    "cfg = proj.analyses.CFGFast(data_references=True, normalize=True)\n",
    "print(cfg.graph)\n",
    "#create the cfg using CFGFast function from anger to get a fast a complete picture of all the blocks"
   ]
  },
  {
   "cell_type": "code",
   "execution_count": 14,
   "id": "60180aa8-95a1-4975-86df-02a0db8dfb60",
   "metadata": {},
   "outputs": [
    {
     "name": "stdout",
     "output_type": "stream",
     "text": [
      "[<CFGNode _start [46]>, <CFGNode _init [20]>, <CFGNode deregister_tm_clones [19]>, <CFGNode register_tm_clones [36]>, <CFGNode __do_global_dtors_aux [13]>, <CFGNode frame_dummy [9]>, <CFGNode main [58]>, <CFGNode __libc_csu_init [49]>, <CFGNode __libc_csu_fini [5]>, <CFGNode _fini [13]>, <CFGNode __libc_start_main [0]>, <CFGNode _init+0x16 [5]>, <CFGNode _init+0x14 [2]>, <CFGNode deregister_tm_clones+0x28 [1]>, <CFGNode deregister_tm_clones+0x13 [12]>, <CFGNode register_tm_clones+0x38 [1]>, <CFGNode register_tm_clones+0x24 [12]>, <CFGNode __do_global_dtors_aux+0xd [14]>, <CFGNode __do_global_dtors_aux+0x38 [1]>, <CFGNode 0x401090[11]>, <CFGNode deregister_tm_clones+0x1f [2]>, <CFGNode register_tm_clones+0x30 [2]>, <CFGNode __do_global_dtors_aux+0x27 [5]>, <CFGNode __do_global_dtors_aux+0x1b [12]>, <CFGNode scanf [0]>, <CFGNode  [11]>, <CFGNode UnresolvableJumpTarget [0]>, <CFGNode __do_global_dtors_aux+0x2c [9]>, <CFGNode __libc_csu_init+0x31 [6]>, <CFGNode __libc_csu_init+0x56 [15]>, <CFGNode main+0x3a [10]>, <CFGNode main+0x44 [12]>, <CFGNode main+0x52 [12]>, <CFGNode  [11]>, <CFGNode puts [0]>, <CFGNode main+0x5e [20]>, <CFGNode main+0x77 [2]>, <CFGNode main+0x72 [5]>, <CFGNode 0x401080[11]>, <CFGNode __stack_chk_fail [0]>, <CFGNode main+0x50 [2]>, <CFGNode UnresolvableCallTarget [0]>, <CFGNode __libc_csu_init+0x4d [9]>, <CFGNode __libc_csu_init+0x40 [13]>, <CFGNode  [13]>, <CFGNode 0x40105f[1]>, <CFGNode 0x40106b[5]>, <CFGNode 0x40107b[5]>, <CFGNode 0x40108b[5]>, <CFGNode 0x40109b[5]>, <CFGNode 0x4010ce[1]>, <CFGNode 0x4010cf[1]>, <CFGNode 0x4010f9[7]>, <CFGNode 0x401139[7]>, <CFGNode 0x401179[7]>, <CFGNode 0x401202[14]>, <CFGNode 0x401275[11]>, <CFGNode deregister_tm_clones+0x21 [7]>, <CFGNode register_tm_clones+0x32 [6]>, <CFGNode 0x401175[3]>, <CFGNode __libc_csu_init+0x37 [9]>, <CFGNode 0x401030[15]>, <CFGNode 0x401040[15]>, <CFGNode 0x401050[15]>, <CFGNode 0x40102d[3]>, <CFGNode 0x40103f[1]>, <CFGNode 0x40104f[1]>]\n",
      "67\n"
     ]
    }
   ],
   "source": [
    "nodelist = list(cfg.graph.nodes())\n",
    "print(nodelist)\n",
    "#Make a list to hold all of the nodes detected\n",
    "\n",
    "numofnodes = len(nodelist)\n",
    "print(numofnodes)\n",
    "#print the total num of nodes"
   ]
  },
  {
   "cell_type": "code",
   "execution_count": 15,
   "id": "4f5e9abe-0e12-4377-8316-8e4cf8435242",
   "metadata": {},
   "outputs": [
    {
     "name": "stdout",
     "output_type": "stream",
     "text": [
      "[(<CFGNode _start [46]>, <CFGNode __libc_start_main [0]>), (<CFGNode _init [20]>, <CFGNode _init+0x16 [5]>), (<CFGNode _init [20]>, <CFGNode _init+0x14 [2]>), (<CFGNode deregister_tm_clones [19]>, <CFGNode deregister_tm_clones+0x28 [1]>), (<CFGNode deregister_tm_clones [19]>, <CFGNode deregister_tm_clones+0x13 [12]>), (<CFGNode register_tm_clones [36]>, <CFGNode register_tm_clones+0x38 [1]>), (<CFGNode register_tm_clones [36]>, <CFGNode register_tm_clones+0x24 [12]>), (<CFGNode __do_global_dtors_aux [13]>, <CFGNode __do_global_dtors_aux+0xd [14]>), (<CFGNode __do_global_dtors_aux [13]>, <CFGNode __do_global_dtors_aux+0x38 [1]>), (<CFGNode frame_dummy [9]>, <CFGNode register_tm_clones [36]>), (<CFGNode main [58]>, <CFGNode 0x401090[11]>), (<CFGNode main [58]>, <CFGNode main+0x3a [10]>), (<CFGNode __libc_csu_init [49]>, <CFGNode _init [20]>), (<CFGNode __libc_csu_init [49]>, <CFGNode __libc_csu_init+0x31 [6]>), (<CFGNode __libc_start_main [0]>, <CFGNode __libc_csu_init [49]>), (<CFGNode __libc_start_main [0]>, <CFGNode main [58]>), (<CFGNode __libc_start_main [0]>, <CFGNode __libc_csu_fini [5]>), (<CFGNode _init+0x16 [5]>, <CFGNode __libc_csu_init+0x31 [6]>), (<CFGNode _init+0x14 [2]>, <CFGNode UnresolvableCallTarget [0]>), (<CFGNode _init+0x14 [2]>, <CFGNode _init+0x16 [5]>), (<CFGNode deregister_tm_clones+0x28 [1]>, <CFGNode __do_global_dtors_aux+0x2c [9]>), (<CFGNode deregister_tm_clones+0x13 [12]>, <CFGNode deregister_tm_clones+0x28 [1]>), (<CFGNode deregister_tm_clones+0x13 [12]>, <CFGNode deregister_tm_clones+0x1f [2]>), (<CFGNode register_tm_clones+0x24 [12]>, <CFGNode register_tm_clones+0x38 [1]>), (<CFGNode register_tm_clones+0x24 [12]>, <CFGNode register_tm_clones+0x30 [2]>), (<CFGNode __do_global_dtors_aux+0xd [14]>, <CFGNode __do_global_dtors_aux+0x27 [5]>), (<CFGNode __do_global_dtors_aux+0xd [14]>, <CFGNode __do_global_dtors_aux+0x1b [12]>), (<CFGNode 0x401090[11]>, <CFGNode scanf [0]>), (<CFGNode deregister_tm_clones+0x1f [2]>, <CFGNode UnresolvableJumpTarget [0]>), (<CFGNode register_tm_clones+0x30 [2]>, <CFGNode UnresolvableJumpTarget [0]>), (<CFGNode __do_global_dtors_aux+0x27 [5]>, <CFGNode deregister_tm_clones [19]>), (<CFGNode __do_global_dtors_aux+0x27 [5]>, <CFGNode __do_global_dtors_aux+0x2c [9]>), (<CFGNode __do_global_dtors_aux+0x1b [12]>, <CFGNode  [11]>), (<CFGNode __do_global_dtors_aux+0x1b [12]>, <CFGNode __do_global_dtors_aux+0x27 [5]>), (<CFGNode scanf [0]>, <CFGNode main+0x3a [10]>), (<CFGNode  [11]>, <CFGNode UnresolvableJumpTarget [0]>), (<CFGNode __libc_csu_init+0x31 [6]>, <CFGNode __libc_csu_init+0x56 [15]>), (<CFGNode __libc_csu_init+0x31 [6]>, <CFGNode __libc_csu_init+0x37 [9]>), (<CFGNode main+0x3a [10]>, <CFGNode main+0x44 [12]>), (<CFGNode main+0x3a [10]>, <CFGNode main+0x52 [12]>), (<CFGNode main+0x44 [12]>, <CFGNode  [11]>), (<CFGNode main+0x44 [12]>, <CFGNode main+0x50 [2]>), (<CFGNode main+0x52 [12]>, <CFGNode  [11]>), (<CFGNode main+0x52 [12]>, <CFGNode main+0x5e [20]>), (<CFGNode  [11]>, <CFGNode puts [0]>), (<CFGNode puts [0]>, <CFGNode main+0x5e [20]>), (<CFGNode puts [0]>, <CFGNode main+0x50 [2]>), (<CFGNode main+0x5e [20]>, <CFGNode main+0x77 [2]>), (<CFGNode main+0x5e [20]>, <CFGNode main+0x72 [5]>), (<CFGNode main+0x72 [5]>, <CFGNode 0x401080[11]>), (<CFGNode 0x401080[11]>, <CFGNode __stack_chk_fail [0]>), (<CFGNode main+0x50 [2]>, <CFGNode main+0x5e [20]>), (<CFGNode __libc_csu_init+0x4d [9]>, <CFGNode __libc_csu_init+0x56 [15]>), (<CFGNode __libc_csu_init+0x4d [9]>, <CFGNode __libc_csu_init+0x40 [13]>), (<CFGNode __libc_csu_init+0x40 [13]>, <CFGNode UnresolvableCallTarget [0]>), (<CFGNode __libc_csu_init+0x40 [13]>, <CFGNode __libc_csu_init+0x4d [9]>), (<CFGNode  [13]>, <CFGNode UnresolvableJumpTarget [0]>), (<CFGNode 0x40105f[1]>, <CFGNode  [11]>), (<CFGNode 0x40106b[5]>, <CFGNode  [11]>), (<CFGNode 0x40107b[5]>, <CFGNode 0x401080[11]>), (<CFGNode 0x40108b[5]>, <CFGNode 0x401090[11]>), (<CFGNode 0x40109b[5]>, <CFGNode _start [46]>), (<CFGNode 0x4010cf[1]>, <CFGNode deregister_tm_clones [19]>), (<CFGNode 0x4010f9[7]>, <CFGNode register_tm_clones [36]>), (<CFGNode 0x401139[7]>, <CFGNode __do_global_dtors_aux [13]>), (<CFGNode 0x401179[7]>, <CFGNode frame_dummy [9]>), (<CFGNode 0x401202[14]>, <CFGNode __libc_csu_init [49]>), (<CFGNode 0x401275[11]>, <CFGNode __libc_csu_fini [5]>), (<CFGNode deregister_tm_clones+0x21 [7]>, <CFGNode deregister_tm_clones+0x28 [1]>), (<CFGNode register_tm_clones+0x32 [6]>, <CFGNode register_tm_clones+0x38 [1]>), (<CFGNode 0x401175[3]>, <CFGNode __do_global_dtors_aux+0x38 [1]>), (<CFGNode __libc_csu_init+0x37 [9]>, <CFGNode __libc_csu_init+0x40 [13]>), (<CFGNode 0x401030[15]>, <CFGNode  [13]>), (<CFGNode 0x401040[15]>, <CFGNode  [13]>), (<CFGNode 0x401050[15]>, <CFGNode  [13]>), (<CFGNode 0x40102d[3]>, <CFGNode 0x401030[15]>), (<CFGNode 0x40103f[1]>, <CFGNode 0x401040[15]>), (<CFGNode 0x40104f[1]>, <CFGNode 0x401050[15]>)]\n",
      "78\n"
     ]
    }
   ],
   "source": [
    "edgelist = list(cfg.graph.edges())\n",
    "print(edgelist)\n",
    "#Make a list to hold all of the edges detected\n",
    "\n",
    "numofedges = len(edgelist)\n",
    "print(numofedges)\n",
    "#print the total num of edges"
   ]
  },
  {
   "cell_type": "code",
   "execution_count": 16,
   "id": "400695a9-3294-414b-a540-30532c1b189c",
   "metadata": {},
   "outputs": [
    {
     "name": "stdout",
     "output_type": "stream",
     "text": [
      "[<CFGNode _start [46]>, <CFGNode _init [20]>, <CFGNode deregister_tm_clones [19]>, <CFGNode register_tm_clones [36]>, <CFGNode __do_global_dtors_aux [13]>, <CFGNode frame_dummy [9]>, <CFGNode main [58]>, <CFGNode __libc_csu_init [49]>, <CFGNode __libc_csu_fini [5]>, <CFGNode _fini [13]>, <CFGNode _init+0x16 [5]>, <CFGNode _init+0x14 [2]>, <CFGNode deregister_tm_clones+0x28 [1]>, <CFGNode deregister_tm_clones+0x13 [12]>, <CFGNode register_tm_clones+0x38 [1]>, <CFGNode register_tm_clones+0x24 [12]>, <CFGNode __do_global_dtors_aux+0xd [14]>, <CFGNode __do_global_dtors_aux+0x38 [1]>, <CFGNode 0x401090[11]>, <CFGNode deregister_tm_clones+0x1f [2]>, <CFGNode register_tm_clones+0x30 [2]>, <CFGNode __do_global_dtors_aux+0x27 [5]>, <CFGNode __do_global_dtors_aux+0x1b [12]>, <CFGNode  [11]>, <CFGNode __do_global_dtors_aux+0x2c [9]>, <CFGNode __libc_csu_init+0x31 [6]>, <CFGNode __libc_csu_init+0x56 [15]>, <CFGNode main+0x3a [10]>, <CFGNode main+0x44 [12]>, <CFGNode main+0x52 [12]>, <CFGNode  [11]>, <CFGNode main+0x5e [20]>, <CFGNode main+0x77 [2]>, <CFGNode main+0x72 [5]>, <CFGNode 0x401080[11]>, <CFGNode main+0x50 [2]>, <CFGNode __libc_csu_init+0x4d [9]>, <CFGNode __libc_csu_init+0x40 [13]>, <CFGNode  [13]>, <CFGNode 0x40105f[1]>, <CFGNode 0x40106b[5]>, <CFGNode 0x40107b[5]>, <CFGNode 0x40108b[5]>, <CFGNode 0x40109b[5]>, <CFGNode 0x4010ce[1]>, <CFGNode 0x4010cf[1]>, <CFGNode 0x4010f9[7]>, <CFGNode 0x401139[7]>, <CFGNode 0x401179[7]>, <CFGNode 0x401202[14]>, <CFGNode 0x401275[11]>, <CFGNode deregister_tm_clones+0x21 [7]>, <CFGNode register_tm_clones+0x32 [6]>, <CFGNode 0x401175[3]>, <CFGNode __libc_csu_init+0x37 [9]>, <CFGNode 0x401030[15]>, <CFGNode 0x401040[15]>, <CFGNode 0x401050[15]>, <CFGNode 0x40102d[3]>, <CFGNode 0x40103f[1]>, <CFGNode 0x40104f[1]>]\n",
      "61\n"
     ]
    }
   ],
   "source": [
    "nodelist1 = [node for node in list(cfg.graph.nodes()) if node.block !=None]\n",
    "#This is a list iterator meant to remove all nodes with empty node blocks\n",
    "\n",
    "print(nodelist1)\n",
    "print(len(nodelist1))\n",
    "#Print this new node list and its length"
   ]
  },
  {
   "cell_type": "code",
   "execution_count": 17,
   "id": "1bd0a449-b90b-46fd-8569-df9db4811109",
   "metadata": {},
   "outputs": [
    {
     "name": "stdout",
     "output_type": "stream",
     "text": [
      "number of nodes in the graph: 67\n",
      "number of edges in the graph: 78\n"
     ]
    }
   ],
   "source": [
    "print(\"number of nodes in the graph:\", numofnodes)\n",
    "print(\"number of edges in the graph:\", numofedges)"
   ]
  },
  {
   "cell_type": "code",
   "execution_count": 18,
   "id": "d461c0fa-2c0c-4ea5-af15-32d8d6e0b7ef",
   "metadata": {},
   "outputs": [
    {
     "name": "stdout",
     "output_type": "stream",
     "text": [
      "<Symbol \"main\" in test at 0x401189>\n"
     ]
    }
   ],
   "source": [
    "main = proj.loader.main_object.get_symbol(\"main\")\n",
    "print(main)"
   ]
  },
  {
   "cell_type": "code",
   "execution_count": 19,
   "id": "3812653d-ce83-4f57-a0e8-73cf8206c133",
   "metadata": {},
   "outputs": [
    {
     "name": "stdout",
     "output_type": "stream",
     "text": [
      "<SimState @ 0x401189>\n"
     ]
    }
   ],
   "source": [
    "start_state = proj.factory.blank_state(addr=main.rebased_addr)\n",
    "print(start_state)\n",
    " "
   ]
  },
  {
   "cell_type": "code",
   "execution_count": 20,
   "id": "9e484a68-f46d-4ad2-814e-0b80940a8790",
   "metadata": {},
   "outputs": [],
   "source": [
    "plot_cfg(cfg, \"binary_test_cfg\", format=\"png\", asminst=True, remove_imports=True, remove_path_terminator=True)  "
   ]
  },
  {
   "cell_type": "code",
   "execution_count": 21,
   "id": "b3671b22-2b11-4262-8cd8-5045f0049c93",
   "metadata": {},
   "outputs": [],
   "source": [
    "plot_cfg(cfg, \"binary_test_cfg\", format=\"dot\", asminst=True, remove_imports=True, remove_path_terminator=True)  "
   ]
  },
  {
   "cell_type": "code",
   "execution_count": 22,
   "id": "3828e9fe-81e5-4270-9bf0-5eea25597f80",
   "metadata": {},
   "outputs": [],
   "source": [
    "allIns = set()"
   ]
  },
  {
   "cell_type": "code",
   "execution_count": 23,
   "id": "9d22395d-f81c-4041-a5e7-f6e82557c5f0",
   "metadata": {},
   "outputs": [
    {
     "name": "stdout",
     "output_type": "stream",
     "text": [
      "<CFGNode _start [46]>\n",
      "endbr64\n",
      "xor\n",
      "mov\n",
      "pop\n",
      "mov\n",
      "and\n",
      "push\n",
      "push\n",
      "lea\n",
      "lea\n",
      "lea\n",
      "call\n",
      "<CFGNode _init [20]>\n",
      "endbr64\n",
      "sub\n",
      "mov\n",
      "test\n",
      "je\n",
      "<CFGNode deregister_tm_clones [19]>\n",
      "lea\n",
      "lea\n",
      "cmp\n",
      "je\n",
      "<CFGNode register_tm_clones [36]>\n",
      "lea\n",
      "lea\n",
      "sub\n",
      "mov\n",
      "shr\n",
      "sar\n",
      "add\n",
      "sar\n",
      "je\n",
      "<CFGNode __do_global_dtors_aux [13]>\n",
      "endbr64\n",
      "cmp\n",
      "jne\n",
      "<CFGNode frame_dummy [9]>\n",
      "endbr64\n",
      "jmp\n",
      "<CFGNode main [58]>\n",
      "endbr64\n",
      "push\n",
      "mov\n",
      "sub\n",
      "mov\n",
      "mov\n",
      "mov\n",
      "mov\n",
      "xor\n",
      "lea\n",
      "mov\n",
      "lea\n",
      "mov\n",
      "call\n",
      "<CFGNode __libc_csu_init [49]>\n",
      "endbr64\n",
      "push\n",
      "lea\n",
      "push\n",
      "mov\n",
      "push\n",
      "mov\n",
      "push\n",
      "mov\n",
      "push\n",
      "lea\n",
      "push\n",
      "sub\n",
      "sub\n",
      "call\n",
      "<CFGNode __libc_csu_fini [5]>\n",
      "endbr64\n",
      "ret\n",
      "<CFGNode _fini [13]>\n",
      "endbr64\n",
      "sub\n",
      "add\n",
      "ret\n",
      "<CFGNode _init+0x16 [5]>\n",
      "add\n",
      "ret\n",
      "<CFGNode _init+0x14 [2]>\n",
      "call\n",
      "<CFGNode deregister_tm_clones+0x28 [1]>\n",
      "ret\n",
      "<CFGNode deregister_tm_clones+0x13 [12]>\n",
      "mov\n",
      "test\n",
      "je\n",
      "<CFGNode register_tm_clones+0x38 [1]>\n",
      "ret\n",
      "<CFGNode register_tm_clones+0x24 [12]>\n",
      "mov\n",
      "test\n",
      "je\n",
      "<CFGNode __do_global_dtors_aux+0xd [14]>\n",
      "push\n",
      "cmp\n",
      "mov\n",
      "je\n",
      "<CFGNode __do_global_dtors_aux+0x38 [1]>\n",
      "ret\n",
      "<CFGNode 0x401090[11]>\n",
      "endbr64\n",
      "bnd jmp\n",
      "<CFGNode deregister_tm_clones+0x1f [2]>\n",
      "jmp\n",
      "<CFGNode register_tm_clones+0x30 [2]>\n",
      "jmp\n",
      "<CFGNode __do_global_dtors_aux+0x27 [5]>\n",
      "call\n",
      "<CFGNode __do_global_dtors_aux+0x1b [12]>\n",
      "mov\n",
      "call\n",
      "<CFGNode  [11]>\n",
      "endbr64\n",
      "bnd jmp\n",
      "<CFGNode __do_global_dtors_aux+0x2c [9]>\n",
      "mov\n",
      "pop\n",
      "ret\n",
      "<CFGNode __libc_csu_init+0x31 [6]>\n",
      "sar\n",
      "je\n",
      "<CFGNode __libc_csu_init+0x56 [15]>\n",
      "add\n",
      "pop\n",
      "pop\n",
      "pop\n",
      "pop\n",
      "pop\n",
      "pop\n",
      "ret\n",
      "<CFGNode main+0x3a [10]>\n",
      "mov\n",
      "cmp\n",
      "jne\n",
      "<CFGNode main+0x44 [12]>\n",
      "lea\n",
      "call\n",
      "<CFGNode main+0x52 [12]>\n",
      "lea\n",
      "call\n",
      "<CFGNode  [11]>\n",
      "endbr64\n",
      "bnd jmp\n",
      "<CFGNode main+0x5e [20]>\n",
      "mov\n",
      "mov\n",
      "xor\n",
      "je\n",
      "<CFGNode main+0x77 [2]>\n",
      "leave\n",
      "ret\n",
      "<CFGNode main+0x72 [5]>\n",
      "call\n",
      "<CFGNode 0x401080[11]>\n",
      "endbr64\n",
      "bnd jmp\n",
      "<CFGNode main+0x50 [2]>\n",
      "jmp\n",
      "<CFGNode __libc_csu_init+0x4d [9]>\n",
      "add\n",
      "cmp\n",
      "jne\n",
      "<CFGNode __libc_csu_init+0x40 [13]>\n",
      "mov\n",
      "mov\n",
      "mov\n",
      "call\n",
      "<CFGNode  [13]>\n",
      "push\n",
      "bnd jmp\n",
      "<CFGNode 0x40105f[1]>\n",
      "nop\n",
      "<CFGNode 0x40106b[5]>\n",
      "nop\n",
      "<CFGNode 0x40107b[5]>\n",
      "nop\n",
      "<CFGNode 0x40108b[5]>\n",
      "nop\n",
      "<CFGNode 0x40109b[5]>\n",
      "nop\n",
      "<CFGNode 0x4010ce[1]>\n",
      "hlt\n",
      "<CFGNode 0x4010cf[1]>\n",
      "nop\n",
      "<CFGNode 0x4010f9[7]>\n",
      "nop\n",
      "<CFGNode 0x401139[7]>\n",
      "nop\n",
      "<CFGNode 0x401179[7]>\n",
      "nop\n",
      "<CFGNode 0x401202[14]>\n",
      "nop\n",
      "nop\n",
      "<CFGNode 0x401275[11]>\n",
      "nop\n",
      "<CFGNode deregister_tm_clones+0x21 [7]>\n",
      "nop\n",
      "<CFGNode register_tm_clones+0x32 [6]>\n",
      "nop\n",
      "<CFGNode 0x401175[3]>\n",
      "nop\n",
      "<CFGNode __libc_csu_init+0x37 [9]>\n",
      "xor\n",
      "nop\n",
      "<CFGNode 0x401030[15]>\n",
      "endbr64\n",
      "push\n",
      "bnd jmp\n",
      "<CFGNode 0x401040[15]>\n",
      "endbr64\n",
      "push\n",
      "bnd jmp\n",
      "<CFGNode 0x401050[15]>\n",
      "endbr64\n",
      "push\n",
      "bnd jmp\n",
      "<CFGNode 0x40102d[3]>\n",
      "nop\n",
      "<CFGNode 0x40103f[1]>\n",
      "nop\n",
      "<CFGNode 0x40104f[1]>\n",
      "nop\n"
     ]
    }
   ],
   "source": [
    "for node in nodelist1:\n",
    "    print(node)\n",
    "    for ins in ((node.block.disassembly.insns)):\n",
    "        print(ins.mnemonic)\n",
    "        allIns.add(ins.mnemonic)\n",
    "        \n"
   ]
  },
  {
   "cell_type": "code",
   "execution_count": 24,
   "id": "c124f5ac-ac68-4f4b-939f-b1e8a535ea7d",
   "metadata": {},
   "outputs": [
    {
     "name": "stdout",
     "output_type": "stream",
     "text": [
      "{'test', 'jmp', 'and', 'cmp', 'sub', 'hlt', 'sar', 'ret', 'pop', 'bnd jmp', 'xor', 'call', 'je', 'shr', 'push', 'add', 'leave', 'jne', 'mov', 'lea', 'nop', 'endbr64'}\n"
     ]
    }
   ],
   "source": [
    "print(allIns)"
   ]
  },
  {
   "cell_type": "code",
   "execution_count": 25,
   "id": "86edb9c6-30c9-435c-abab-3d073676fa51",
   "metadata": {},
   "outputs": [
    {
     "name": "stdout",
     "output_type": "stream",
     "text": [
      "number of different instruction types: 22\n"
     ]
    }
   ],
   "source": [
    "print(\"number of different instruction types:\", len(allIns))"
   ]
  },
  {
   "cell_type": "code",
   "execution_count": null,
   "id": "f022a8d5-d7c0-4d80-ba4c-e9087863adeb",
   "metadata": {},
   "outputs": [],
   "source": []
  },
  {
   "cell_type": "code",
   "execution_count": null,
   "id": "22176e41-28d1-4a28-93e4-8a68d316abc2",
   "metadata": {},
   "outputs": [],
   "source": []
  }
 ],
 "metadata": {
  "kernelspec": {
   "display_name": "Python 3 (ipykernel)",
   "language": "python",
   "name": "python3"
  },
  "language_info": {
   "codemirror_mode": {
    "name": "ipython",
    "version": 3
   },
   "file_extension": ".py",
   "mimetype": "text/x-python",
   "name": "python",
   "nbconvert_exporter": "python",
   "pygments_lexer": "ipython3",
   "version": "3.8.10"
  }
 },
 "nbformat": 4,
 "nbformat_minor": 5
}
